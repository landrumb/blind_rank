{
 "cells": [
  {
   "cell_type": "code",
   "execution_count": 1,
   "metadata": {},
   "outputs": [],
   "source": [
    "import pandas as pd\n",
    "import os"
   ]
  },
  {
   "cell_type": "code",
   "execution_count": 2,
   "metadata": {},
   "outputs": [],
   "source": [
    "models = ['random_golden', 'nmt_baseline', '3shot-prompts', 'c2_f6_rb_ucg-cis_nli-g_12h', 's4_f6_rb_ucg-cis_nli-g']\n",
    "dfs = {short: pd.read_csv(os.path.join('/nfshomes/landrum/keep_it_formal/eval/best_outputs', f'{short}_best.csv')) for short in models}\n",
    "generations = pd.DataFrame({'original': dfs['random_golden']['original']} | {short: dfs[short]['generation'] for short in models} | {'sum_chrf': sum([dfs[short]['generation_chrf'] for short in models])})"
   ]
  },
  {
   "cell_type": "code",
   "execution_count": 3,
   "metadata": {},
   "outputs": [],
   "source": [
    "# we write the originals to a txt file\n",
    "with open(\"example_data/originals.txt\", \"w\") as f:\n",
    "    for original in generations['original']:\n",
    "        f.write(original.replace('\\n', '') + \"\\n\")\n",
    "\n",
    "# we write the generations to txt files\n",
    "for short in models:\n",
    "    with open(f\"example_data/{short}.txt\", \"w\") as f:\n",
    "        for generation in generations[short]:\n",
    "            f.write(generation.replace('\\n', '') + \"\\n\")"
   ]
  },
  {
   "cell_type": "code",
   "execution_count": null,
   "metadata": {},
   "outputs": [],
   "source": []
  }
 ],
 "metadata": {
  "kernelspec": {
   "display_name": "mice2",
   "language": "python",
   "name": "python3"
  },
  "language_info": {
   "codemirror_mode": {
    "name": "ipython",
    "version": 3
   },
   "file_extension": ".py",
   "mimetype": "text/x-python",
   "name": "python",
   "nbconvert_exporter": "python",
   "pygments_lexer": "ipython3",
   "version": "3.11.5"
  }
 },
 "nbformat": 4,
 "nbformat_minor": 2
}
